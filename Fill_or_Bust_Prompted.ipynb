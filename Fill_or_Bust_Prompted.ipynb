{
 "cells": [
  {
   "cell_type": "code",
   "execution_count": 1,
   "id": "3b4d0da3-e021-42fb-918f-2090ae22c392",
   "metadata": {},
   "outputs": [],
   "source": [
    "# Initial Imports\n",
    "import numpy as np\n",
    "import time\n",
    "import sys"
   ]
  },
  {
   "cell_type": "code",
   "execution_count": 2,
   "id": "29c5219e-0fc8-42fa-bb42-02a78d325e25",
   "metadata": {},
   "outputs": [],
   "source": [
    "# Instantiating base state\n",
    "dicenum = 6\n",
    "cards = [\"BONUS: 300\"]*12 + [\"BONUS: 400\"]*10 + [\"BONUS: 500\"]*8 + [\"NO DICE\"]*8 + [\"FILL 1000\"]*6 + [\"MUST BUST\"]*4 + [\"VENGEANCE 2500\"]*4 + [\"DOUBLE TROUBLE\"]*2\n",
    "scoring_dict = {(5,): 50, (1,): 100, (2,2,2): 200, (3,3,3): 300, (4,4,4): 400, (5,5,5): 500, (6,6,6): 600, (1,1,1): 1000, (1,2,3,4,5,6): 1500}\n",
    "draw_pile = cards.copy()\n",
    "np.random.shuffle(draw_pile)\n",
    "dice = []\n",
    "saved_dice = []\n",
    "turn_score = 0\n",
    "players = 0\n",
    "players_dict = dict()"
   ]
  },
  {
   "cell_type": "code",
   "execution_count": 3,
   "id": "a60cfedc-8d2e-416d-ad18-70eaf77dc6dc",
   "metadata": {},
   "outputs": [],
   "source": [
    "# Defining function to draw a card - also shuffles if needed and resets dice\n",
    "def draw():\n",
    "    global dicenum\n",
    "    global draw_pile\n",
    "    if len(draw_pile) < 1:\n",
    "        print(\"New Deck!\")\n",
    "        draw_pile = cards.copy()\n",
    "        np.random.shuffle(draw_pile)\n",
    "    else:\n",
    "        print(f\"Remaining cards: {len(draw_pile)}\")\n",
    "    dicenum = 6\n",
    "    return draw_pile.pop()"
   ]
  },
  {
   "cell_type": "code",
   "execution_count": 4,
   "id": "1031fda9-fe56-473e-8ff9-65a8a88e0d66",
   "metadata": {},
   "outputs": [],
   "source": [
    "# Defining function to roll dice\n",
    "def roll_dice():\n",
    "    global dice\n",
    "    roll = np.random.randint(low=1, high=7, size=dicenum)\n",
    "    dice = roll.tolist()\n",
    "    print(dice)\n",
    "    bust = score_dice()\n",
    "    if bust:\n",
    "        return \"bust\"\n",
    "    return dice"
   ]
  },
  {
   "cell_type": "code",
   "execution_count": 5,
   "id": "f0a66342-5637-402c-894f-d0f3e749ab2c",
   "metadata": {},
   "outputs": [],
   "source": [
    "# Defining function to identify possible scoring sets in rolled dice - now called automatically by roll_dice\n",
    "def score_dice():\n",
    "    global dice\n",
    "    bust = True\n",
    "    dice_counts = dict()\n",
    "    for num in range(1,7):\n",
    "        dice_counts[num] = dice.count(num)\n",
    "    if set(dice_counts.values()) == {1}:\n",
    "        print(\"Straight! 1500 points\")\n",
    "        bust = False\n",
    "    else:\n",
    "        for key in dice_counts.keys():\n",
    "            if dice_counts[key] == 6:\n",
    "                print(f\"Two sets of {key}: {2*scoring_dict[(key, key, key)]} points\")\n",
    "                bust = False\n",
    "            elif dice_counts[key] > 2:\n",
    "                print(f\"Set of {key}: {scoring_dict[(key, key, key)]} points\")\n",
    "                bust = False\n",
    "            if (key in [1, 5]) and (dice_counts[key] > 0):\n",
    "                print(f\"{dice_counts[key]} {key}s: {scoring_dict[(key,)]} points each (up to {dice_counts[key]*scoring_dict[(key,)]})\")\n",
    "                bust = False\n",
    "    if bust:\n",
    "        return True"
   ]
  },
  {
   "cell_type": "code",
   "execution_count": 6,
   "id": "b82b274f-92ee-4564-a3c0-422c6a293396",
   "metadata": {},
   "outputs": [],
   "source": [
    "# Defining function to save scoring dice\n",
    "def save_dice():\n",
    "    if dice == [0]:\n",
    "        print(\"No dice to save!\")\n",
    "        return\n",
    "    while True:\n",
    "        scoring_set = input(\"Which dice would you like to save?\")\n",
    "        try:\n",
    "            if len(scoring_set) == 1:\n",
    "                scoring_set = [int(scoring_set)]\n",
    "            else:\n",
    "                scoring_set = scoring_set.split(\",\")\n",
    "                scoring_set = [int(entry.strip()) for entry in scoring_set]\n",
    "            break\n",
    "        except:\n",
    "            print(\"Unable to parse - please enter single scoring set of comma-separated dice values\")\n",
    "            return\n",
    "    global dice\n",
    "    global dicenum\n",
    "    global saved_dice\n",
    "    global turn_score\n",
    "    if tuple(scoring_set) not in scoring_dict.keys():\n",
    "        print(\"Not a valid scoring set\")\n",
    "        return\n",
    "    try:\n",
    "        temp_dice = list()\n",
    "        for die in scoring_set:\n",
    "            dice.remove(die)\n",
    "            temp_dice.append(die)\n",
    "            dicenum -= 1\n",
    "        saved_dice.append(temp_dice)\n",
    "        turn_score += scoring_dict[tuple(scoring_set)]\n",
    "    except:\n",
    "        print(\"Scoring set not in dice\")\n",
    "    print(f\"Dice: {dice} \\nSaved Dice: {saved_dice} \\nTurn Score: {turn_score}\")\n",
    "    if dicenum == 0:\n",
    "        return \"fill\""
   ]
  },
  {
   "cell_type": "code",
   "execution_count": 7,
   "id": "5d147775-b492-46d8-9af5-74e91fa2916f",
   "metadata": {},
   "outputs": [],
   "source": [
    "# Defining general function to get player input\n",
    "def get_input(options={\"0\": \"quit\"}):\n",
    "    print(\"What would you like to do?\")\n",
    "    time.sleep(1)\n",
    "    while True:\n",
    "        action = input(f\"Choose one of the following options: {options}\").lower().strip()\n",
    "        if (action in options.values()) or (action in options.keys()):\n",
    "            for option in options.items():\n",
    "                if action in option:\n",
    "                    return options_guide[option[1]]()\n",
    "            break\n",
    "        else:\n",
    "            print(\"Not a valid option - try entering the number or string for one of the options provided\")"
   ]
  },
  {
   "cell_type": "code",
   "execution_count": 8,
   "id": "b2d40bdc-1084-4552-b059-885932e9f01a",
   "metadata": {},
   "outputs": [],
   "source": [
    "# Options guide is the index for the functions\n",
    "options_guide = {\"quit\": quit, \"draw\": draw, \"roll dice\": roll_dice, \"save dice\": save_dice}"
   ]
  },
  {
   "cell_type": "code",
   "execution_count": 9,
   "id": "575b0b5f-10ae-4eb1-b53c-b41ba14d5ef9",
   "metadata": {},
   "outputs": [
    {
     "name": "stdin",
     "output_type": "stream",
     "text": [
      "How many players? Enter a number:  2\n"
     ]
    }
   ],
   "source": [
    "# Collecting the number of players from the user\n",
    "while True:\n",
    "    try:\n",
    "        players = int(input(\"How many players? Enter a number: \"))\n",
    "    except:\n",
    "        print(\"Not a valid number of players - please enter an integer\")\n",
    "        continue\n",
    "    if (players > 1):\n",
    "        break\n",
    "    else:\n",
    "        print(\"You can't play with fewer than two people!\")\n",
    "        continue"
   ]
  },
  {
   "cell_type": "code",
   "execution_count": 10,
   "id": "c81cf69d-b251-40c9-9950-ec8475483a15",
   "metadata": {},
   "outputs": [],
   "source": [
    "for i in range(players):\n",
    "    playernum = i + 1\n",
    "    players_dict[f\"Player {playernum}\"] = 0"
   ]
  },
  {
   "cell_type": "code",
   "execution_count": 13,
   "id": "7ec6df4b-e10c-4cf1-9436-8003c0db832d",
   "metadata": {},
   "outputs": [
    {
     "name": "stdout",
     "output_type": "stream",
     "text": [
      "Current scores: {'Player 1': 0, 'Player 2': 0}\n",
      "Player 1's turn\n",
      "What would you like to do?\n"
     ]
    },
    {
     "name": "stdin",
     "output_type": "stream",
     "text": [
      "Choose one of the following options: {'0': 'quit', '1': 'draw'} 1\n"
     ]
    },
    {
     "name": "stdout",
     "output_type": "stream",
     "text": [
      "Remaining cards: 52\n",
      "BONUS: 500\n",
      "What would you like to do?\n"
     ]
    },
    {
     "name": "stdin",
     "output_type": "stream",
     "text": [
      "Choose one of the following options: {'0': 'quit', '1': 'roll dice'} 1\n"
     ]
    },
    {
     "name": "stdout",
     "output_type": "stream",
     "text": [
      "[3, 6, 4, 4, 5, 6]\n",
      "1 5s: 50 points each (up to 50)\n",
      "What would you like to do?\n"
     ]
    },
    {
     "name": "stdin",
     "output_type": "stream",
     "text": [
      "Choose one of the following options: {'0': 'quit', '1': 'save dice'} 1\n",
      "Which dice would you like to save? 5\n"
     ]
    },
    {
     "name": "stdout",
     "output_type": "stream",
     "text": [
      "Dice: [3, 6, 4, 4, 6] \n",
      "Saved Dice: [[5]] \n",
      "Turn Score: 50\n"
     ]
    }
   ],
   "source": [
    "# Turn loop - this contains the actual gameplay\n",
    "while True:\n",
    "    for player in players_dict.keys():\n",
    "        dice = [0]\n",
    "        turn_score = 0\n",
    "        print(f\"Current scores: {players_dict}\")\n",
    "        print(f\"{player}'s turn\")\n",
    "        # Draw input\n",
    "        card = get_input({\"0\": \"quit\", \"1\": \"draw\"})\n",
    "        print(card)\n",
    "        if card == \"NO DICE\":\n",
    "            print(\"Sorry, no dice!\")\n",
    "            time.sleep(3)\n",
    "            continue\n",
    "        # Roll Dice loop\n",
    "        dice = get_input({\"0\": \"quit\", \"1\": \"roll dice\"})\n",
    "        if dice == \"bust\":\n",
    "            continue\n",
    "        get_input({\"0\": \"quit\", \"1\": \"save dice\"})\n",
    "        \n",
    "            \n",
    "        \n",
    "        \n",
    "        \n",
    "        break\n",
    "    break"
   ]
  },
  {
   "cell_type": "code",
   "execution_count": null,
   "id": "cb595471-f940-4b37-9241-f86f52247698",
   "metadata": {},
   "outputs": [],
   "source": [
    "#Roll Dice loop development\n",
    "while True:\n",
    "    dice = get_input({\"0\": \"quit\", \"1\": \"roll dice\", \"2\": \"save dice\", \"3\": \"end turn\"})\n",
    "            if dice == \"bust\":\n",
    "                print(\"Bust!\")\n",
    "                #Go back to top of turn loop\n",
    "            elif dice == \"fill\":\n",
    "                print(\"Fill!\")\n",
    "                #Go back to top of draw loop\n",
    "            elif dice == "
   ]
  }
 ],
 "metadata": {
  "kernelspec": {
   "display_name": "Python 3",
   "language": "python",
   "name": "python3"
  },
  "language_info": {
   "codemirror_mode": {
    "name": "ipython",
    "version": 3
   },
   "file_extension": ".py",
   "mimetype": "text/x-python",
   "name": "python",
   "nbconvert_exporter": "python",
   "pygments_lexer": "ipython3",
   "version": "3.8.2"
  }
 },
 "nbformat": 4,
 "nbformat_minor": 5
}
