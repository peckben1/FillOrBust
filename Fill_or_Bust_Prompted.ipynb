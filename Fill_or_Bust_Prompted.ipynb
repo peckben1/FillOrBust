{
 "cells": [
  {
   "cell_type": "code",
   "execution_count": 1,
   "id": "3b4d0da3-e021-42fb-918f-2090ae22c392",
   "metadata": {},
   "outputs": [],
   "source": [
    "# Initial Imports\n",
    "import numpy as np\n",
    "import time\n",
    "import sys"
   ]
  },
  {
   "cell_type": "code",
   "execution_count": 2,
   "id": "29c5219e-0fc8-42fa-bb42-02a78d325e25",
   "metadata": {},
   "outputs": [],
   "source": [
    "# Instantiating base state\n",
    "dicenum = 6\n",
    "cards = [\"BONUS: 300\"]*12 + [\"BONUS: 400\"]*10 + [\"BONUS: 500\"]*8 + [\"NO DICE\"]*8 + [\"FILL 1000\"]*6 + [\"MUST BUST\"]*4 + [\"VENGEANCE 2500\"]*4 + [\"DOUBLE TROUBLE\"]*2\n",
    "scoring_dict = {(5,): 50, (1,): 100, (2,2,2): 200, (3,3,3): 300, (4,4,4): 400, (5,5,5): 500, (6,6,6): 600, (1,1,1): 1000, (1,2,3,4,5,6): 1500}\n",
    "draw_pile = cards.copy()\n",
    "np.random.shuffle(draw_pile)\n",
    "dice = []\n",
    "saved_dice = []\n",
    "turn_score = 0\n",
    "players = 0\n",
    "players_dict = dict()\n",
    "status = -1"
   ]
  },
  {
   "cell_type": "code",
   "execution_count": 3,
   "id": "618f93d1-d00c-4d9b-9f8f-1422bc55c2ba",
   "metadata": {},
   "outputs": [],
   "source": [
    "# Status codes are used for determining the state of a player's turn:\n",
    "# status -1 is not rolled yet, status 0 is normal with no dice saved this throw, status 1 normal with dice saved this throw, status 2 draw again without modifying turn score, status 3 turn is over"
   ]
  },
  {
   "cell_type": "code",
   "execution_count": 4,
   "id": "a60cfedc-8d2e-416d-ad18-70eaf77dc6dc",
   "metadata": {},
   "outputs": [],
   "source": [
    "# Defining function to draw a card - also shuffles if needed and resets dice\n",
    "def draw():\n",
    "    global dicenum\n",
    "    global draw_pile\n",
    "    if len(draw_pile) < 1:\n",
    "        print(\"New Deck!\")\n",
    "        draw_pile = cards.copy()\n",
    "        np.random.shuffle(draw_pile)\n",
    "    else:\n",
    "        print(f\"Remaining cards: {len(draw_pile)}\")\n",
    "    dicenum = 6\n",
    "    return draw_pile.pop()"
   ]
  },
  {
   "cell_type": "code",
   "execution_count": 5,
   "id": "1031fda9-fe56-473e-8ff9-65a8a88e0d66",
   "metadata": {},
   "outputs": [],
   "source": [
    "# Defining function to roll dice and identify possible scoring sets\n",
    "def roll_dice():\n",
    "    global dice\n",
    "    global status\n",
    "    if status == 0:\n",
    "        print(\"You must save some of your scoring dice before rolling again\")\n",
    "        print(dice)\n",
    "        return dice\n",
    "    roll = np.random.randint(low=1, high=7, size=dicenum)\n",
    "    dice = roll.tolist()\n",
    "    print(dice)\n",
    "    bust = True\n",
    "    dice_counts = dict()\n",
    "    for num in range(1,7):\n",
    "        dice_counts[num] = dice.count(num)\n",
    "    if set(dice_counts.values()) == {1}:\n",
    "        print(\"Straight! 1500 points\")\n",
    "        bust = False\n",
    "    else:\n",
    "        for key in dice_counts.keys():\n",
    "            if dice_counts[key] == 6:\n",
    "                print(f\"Two sets of {key}: {2*scoring_dict[(key, key, key)]} points\")\n",
    "                bust = False\n",
    "            elif dice_counts[key] > 2:\n",
    "                print(f\"Set of {key}: {scoring_dict[(key, key, key)]} points\")\n",
    "                bust = False\n",
    "            if (key in [1, 5]) and (dice_counts[key] > 0):\n",
    "                print(f\"{dice_counts[key]} {key}s: {scoring_dict[(key,)]} points each (up to {dice_counts[key]*scoring_dict[(key,)]})\")\n",
    "                bust = False\n",
    "    if bust:\n",
    "        print(\"Bust!\")\n",
    "        status = 3\n",
    "    return dice"
   ]
  },
  {
   "cell_type": "code",
   "execution_count": 6,
   "id": "b82b274f-92ee-4564-a3c0-422c6a293396",
   "metadata": {},
   "outputs": [],
   "source": [
    "# Defining function to save scoring dice\n",
    "def save_dice():\n",
    "    global dice\n",
    "    global dicenum\n",
    "    global saved_dice\n",
    "    global turn_score\n",
    "    global status\n",
    "    if status == -1:\n",
    "        print(\"No dice to save!\")\n",
    "        return dice\n",
    "    while True:\n",
    "        scoring_set = input(\"Which dice would you like to save?\")\n",
    "        try:\n",
    "            if len(scoring_set) == 1:\n",
    "                scoring_set = [int(scoring_set)]\n",
    "            else:\n",
    "                scoring_set = scoring_set.split(\",\")\n",
    "                scoring_set = [int(entry.strip()) for entry in scoring_set]\n",
    "            break\n",
    "        except:\n",
    "            print(\"Unable to parse - please enter single scoring set of comma-separated dice values\")\n",
    "            return dice\n",
    "    if tuple(scoring_set) not in scoring_dict.keys():\n",
    "        print(\"Not a valid scoring set\")\n",
    "        return dice\n",
    "    try:\n",
    "        temp_dice = list()\n",
    "        for die in scoring_set:\n",
    "            dice.remove(die)\n",
    "            temp_dice.append(die)\n",
    "            dicenum -= 1\n",
    "        saved_dice.append(temp_dice)\n",
    "        turn_score += scoring_dict[tuple(scoring_set)]\n",
    "        status = 1\n",
    "    except:\n",
    "        print(\"Scoring set not in dice\")\n",
    "    print(f\"Dice: {dice} \\nSaved Dice: {saved_dice} \\nTurn Score: {turn_score}\")\n",
    "    if dicenum == 0:\n",
    "        print(\"Fill!\")\n",
    "        status = 2\n",
    "    return dice"
   ]
  },
  {
   "cell_type": "code",
   "execution_count": 7,
   "id": "5d147775-b492-46d8-9af5-74e91fa2916f",
   "metadata": {},
   "outputs": [],
   "source": [
    "# Defining general function to get player input\n",
    "def get_input(options={\"0\": \"quit\"}):\n",
    "    print(\"What would you like to do?\")\n",
    "    time.sleep(2)\n",
    "    while True:\n",
    "        action = input(f\"Choose one of the following options: {options}\").lower().strip()\n",
    "        if (action in options.values()) or (action in options.keys()):\n",
    "            for option in options.items():\n",
    "                if action in option:\n",
    "                    return options_guide[option[1]]()\n",
    "            break\n",
    "        else:\n",
    "            print(\"Not a valid option - try entering the number or string for one of the options provided\")"
   ]
  },
  {
   "cell_type": "code",
   "execution_count": 8,
   "id": "ec95e7ce-5cd2-4f7f-a851-6fb0e03ee85b",
   "metadata": {},
   "outputs": [],
   "source": [
    "# Defining function to end turn - kind of basic, but I want this to be in the options guide\n",
    "def end_turn():\n",
    "    global dice\n",
    "    global status\n",
    "    global players_dict\n",
    "    global player\n",
    "    if status < 1:\n",
    "        print(\"You can't end your turn until you've chosen some valid scoring dice to save\")\n",
    "    else:\n",
    "        players_dict[player] += turn_score\n",
    "        status = 3\n",
    "    return dice"
   ]
  },
  {
   "cell_type": "code",
   "execution_count": 9,
   "id": "b2d40bdc-1084-4552-b059-885932e9f01a",
   "metadata": {},
   "outputs": [],
   "source": [
    "# Options guide is the index for the functions\n",
    "options_guide = {\"quit\": sys.exit, \"draw\": draw, \"roll dice\": roll_dice, \"save dice\": save_dice, \"end turn\": end_turn}"
   ]
  },
  {
   "cell_type": "code",
   "execution_count": 10,
   "id": "575b0b5f-10ae-4eb1-b53c-b41ba14d5ef9",
   "metadata": {},
   "outputs": [
    {
     "name": "stdin",
     "output_type": "stream",
     "text": [
      "How many players? Enter a number:  2\n"
     ]
    }
   ],
   "source": [
    "# Collecting the number of players from the user\n",
    "while True:\n",
    "    try:\n",
    "        players = int(input(\"How many players? Enter a number: \"))\n",
    "    except:\n",
    "        print(\"Not a valid number of players - please enter an integer\")\n",
    "        continue\n",
    "    if (players > 1):\n",
    "        break\n",
    "    else:\n",
    "        print(\"You can't play with fewer than two people!\")\n",
    "        continue"
   ]
  },
  {
   "cell_type": "code",
   "execution_count": 11,
   "id": "c81cf69d-b251-40c9-9950-ec8475483a15",
   "metadata": {},
   "outputs": [],
   "source": [
    "for i in range(players):\n",
    "    playernum = i + 1\n",
    "    players_dict[f\"Player {playernum}\"] = 0"
   ]
  },
  {
   "cell_type": "code",
   "execution_count": 12,
   "id": "7ec6df4b-e10c-4cf1-9436-8003c0db832d",
   "metadata": {},
   "outputs": [
    {
     "name": "stdout",
     "output_type": "stream",
     "text": [
      "Current scores: {'Player 1': 0, 'Player 2': 0}\n",
      "Player 1's turn\n",
      "What would you like to do?\n"
     ]
    },
    {
     "name": "stdin",
     "output_type": "stream",
     "text": [
      "Choose one of the following options: {'1': 'draw', '2': 'end turn', '0': 'quit'} 1\n"
     ]
    },
    {
     "name": "stdout",
     "output_type": "stream",
     "text": [
      "Remaining cards: 54\n",
      "BONUS: 300\n",
      "What would you like to do?\n"
     ]
    },
    {
     "name": "stdin",
     "output_type": "stream",
     "text": [
      "Choose one of the following options: {'1': 'roll dice', '2': 'save dice', '3': 'end turn', '0': 'quit'} 1\n"
     ]
    },
    {
     "name": "stdout",
     "output_type": "stream",
     "text": [
      "[1, 3, 2, 5, 2, 4]\n",
      "1 1s: 100 points each (up to 100)\n",
      "1 5s: 50 points each (up to 50)\n",
      "What would you like to do?\n"
     ]
    },
    {
     "name": "stdin",
     "output_type": "stream",
     "text": [
      "Choose one of the following options: {'1': 'roll dice', '2': 'save dice', '3': 'end turn', '0': 'quit'} 1\n"
     ]
    },
    {
     "name": "stdout",
     "output_type": "stream",
     "text": [
      "You must save some of your scoring dice before rolling again\n",
      "[1, 3, 2, 5, 2, 4]\n",
      "What would you like to do?\n"
     ]
    },
    {
     "name": "stdin",
     "output_type": "stream",
     "text": [
      "Choose one of the following options: {'1': 'roll dice', '2': 'save dice', '3': 'end turn', '0': 'quit'} 2\n",
      "Which dice would you like to save? 1\n"
     ]
    },
    {
     "name": "stdout",
     "output_type": "stream",
     "text": [
      "Dice: [3, 2, 5, 2, 4] \n",
      "Saved Dice: [[1]] \n",
      "Turn Score: 100\n",
      "What would you like to do?\n"
     ]
    },
    {
     "name": "stdin",
     "output_type": "stream",
     "text": [
      "Choose one of the following options: {'1': 'roll dice', '2': 'save dice', '3': 'end turn', '0': 'quit'} 1\n"
     ]
    },
    {
     "name": "stdout",
     "output_type": "stream",
     "text": [
      "[2, 1, 6, 5, 3]\n",
      "1 1s: 100 points each (up to 100)\n",
      "1 5s: 50 points each (up to 50)\n",
      "What would you like to do?\n"
     ]
    },
    {
     "name": "stdin",
     "output_type": "stream",
     "text": [
      "Choose one of the following options: {'1': 'roll dice', '2': 'save dice', '3': 'end turn', '0': 'quit'} 0\n"
     ]
    },
    {
     "ename": "SystemExit",
     "evalue": "",
     "output_type": "error",
     "traceback": [
      "An exception has occurred, use %tb to see the full traceback.\n",
      "\u001b[0;31mSystemExit\u001b[0m\n"
     ]
    },
    {
     "name": "stderr",
     "output_type": "stream",
     "text": [
      "/opt/anaconda3/lib/python3.8/site-packages/IPython/core/interactiveshell.py:3449: UserWarning: To exit: use 'exit', 'quit', or Ctrl-D.\n",
      "  warn(\"To exit: use 'exit', 'quit', or Ctrl-D.\", stacklevel=1)\n"
     ]
    }
   ],
   "source": [
    "# Turn loop - this contains the actual gameplay\n",
    "while True:\n",
    "    for player in players_dict.keys():\n",
    "        status = -1\n",
    "        turn_score = 0\n",
    "        saved_dice.clear()\n",
    "        dice.clear()\n",
    "        print(f\"Current scores: {players_dict}\")\n",
    "        print(f\"{player}'s turn\")\n",
    "        # Draw loop\n",
    "        while True:\n",
    "            card = get_input({\"1\": \"draw\", \"2\": \"end turn\", \"0\": \"quit\"})\n",
    "            if status == 3:\n",
    "                break\n",
    "            else:\n",
    "                print(card)\n",
    "                if card == \"NO DICE\":\n",
    "                    print(\"Sorry, no dice!\")\n",
    "                    status = 3\n",
    "                    break\n",
    "                status = -1\n",
    "                # Roll Dice loop\n",
    "                while status < 2:\n",
    "                    dice = get_input({\"1\": \"roll dice\", \"2\": \"save dice\", \"3\": \"end turn\", \"0\": \"quit\"})\n",
    "                    if status > 1:\n",
    "                        break\n",
    "                    elif (dice == []) or (status == 1):\n",
    "                        continue\n",
    "                    else:\n",
    "                        status = 0\n",
    "            if status == 3:\n",
    "                break\n",
    "            status = 0\n",
    "    break #temporary one-turn limit until I figure out why quit isn't working"
   ]
  },
  {
   "cell_type": "code",
   "execution_count": null,
   "id": "d6ccec84-b191-4037-84c1-fb96949147a1",
   "metadata": {},
   "outputs": [],
   "source": []
  }
 ],
 "metadata": {
  "kernelspec": {
   "display_name": "Python 3",
   "language": "python",
   "name": "python3"
  },
  "language_info": {
   "codemirror_mode": {
    "name": "ipython",
    "version": 3
   },
   "file_extension": ".py",
   "mimetype": "text/x-python",
   "name": "python",
   "nbconvert_exporter": "python",
   "pygments_lexer": "ipython3",
   "version": "3.8.2"
  }
 },
 "nbformat": 4,
 "nbformat_minor": 5
}
