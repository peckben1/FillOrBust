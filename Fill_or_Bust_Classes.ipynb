{
 "cells": [
  {
   "cell_type": "code",
   "execution_count": 1,
   "id": "3b4d0da3-e021-42fb-918f-2090ae22c392",
   "metadata": {},
   "outputs": [],
   "source": [
    "# Initial Imports\n",
    "import numpy as np\n",
    "import time\n",
    "import sys"
   ]
  },
  {
   "cell_type": "code",
   "execution_count": 2,
   "id": "29c5219e-0fc8-42fa-bb42-02a78d325e25",
   "metadata": {},
   "outputs": [],
   "source": [
    "# Creating card deck and scoring rules\n",
    "cards = [\"BONUS: 300\"]*12 + [\"BONUS: 400\"]*10 + [\"BONUS: 500\"]*8 + [\"NO DICE\"]*8 + [\"FILL 1000\"]*6 + [\"MUST BUST\"]*4 + [\"VENGEANCE 2500\"]*4 + [\"DOUBLE TROUBLE\"]*2\n",
    "scoring_dict = {(5,): 50, (1,): 100, (2,2,2): 200, (3,3,3): 300, (4,4,4): 400, (5,5,5): 500, (6,6,6): 600, (1,1,1): 1000, (1,2,3,4,5,6): 1500}"
   ]
  },
  {
   "cell_type": "code",
   "execution_count": 3,
   "id": "a700517a-c355-4a68-ad74-d750552ae870",
   "metadata": {},
   "outputs": [],
   "source": [
    "# Defining class for player\n",
    "class Player:\n",
    "    # Instantiating base state\n",
    "    def __init__(self, name):\n",
    "        self.name = name\n",
    "        self.card = \"\"\n",
    "        self.dice = []\n",
    "        self.saved_dice = []\n",
    "        self.turn_score = 0\n",
    "        self.score = 0\n",
    "        \n",
    "    def new_card(self, deck):\n",
    "        self.saved_dice = []\n",
    "        self.card = deck.draw()\n",
    "        self.dice = [0,0,0,0,0,0]\n",
    "    \n",
    "    def roll_dice(self):\n",
    "        self.dice = np.random.randint(low=1, high=7, size=len(self.dice)).tolist()\n",
    "        self.saved_dice.clear()\n",
    "        print(self.dice)\n",
    "        return self.score_dice(self.dice.copy())\n",
    "    \n",
    "    def score_dice(self, to_score):\n",
    "        possible_score = 0\n",
    "        dice_counts = dict()\n",
    "        for num in range(1,7):\n",
    "            dice_counts[num] = to_score.count(num)\n",
    "        if set(dice_counts.values()) == {1}:\n",
    "#            print(\"Straight! 1500 points\")\n",
    "            to_score.clear()\n",
    "            return 1500\n",
    "        for key in dice_counts.keys():\n",
    "            if dice_counts[key] == 6:\n",
    "#                print(f\"Two sets of {key}: {2*scoring_dict[(key, key, key)]} points\")\n",
    "                to_score.clear()\n",
    "                return 2*scoring_dict[(key, key, key)]\n",
    "            if dice_counts[key] > 2:\n",
    "#                print(f\"Set of {key}: {scoring_dict[(key, key, key)]} points\")\n",
    "                possible_score += scoring_dict[(key, key, key)]\n",
    "                dice_counts[key] -= 3\n",
    "                for i in range(3):\n",
    "                    to_score.remove(key)\n",
    "            if (key in [1, 5]) and (dice_counts[key] > 0):\n",
    "#                print(f\"{dice_counts[key]} {key}s: {scoring_dict[(key,)]} points each (up to {dice_counts[key]*scoring_dict[(key,)]})\")\n",
    "                possible_score += dice_counts[key]*scoring_dict[(key,)]\n",
    "                for i in range(dice_counts[key]):\n",
    "                    to_score.remove(key)\n",
    "        if possible_score == 0:\n",
    "            print(\"Bust!\")\n",
    "        return possible_score\n",
    "    \n",
    "    def save_dice(self):\n",
    "        while True:\n",
    "            scoring_set = input(\"Which dice would you like to save?\")\n",
    "            try:\n",
    "                if len(scoring_set) == 1:\n",
    "                    scoring_set = [int(scoring_set)]\n",
    "                else:\n",
    "                    scoring_set = scoring_set.split(\",\")\n",
    "                    scoring_set = [int(entry.strip()) for entry in scoring_set]\n",
    "                break\n",
    "            except:\n",
    "                print(\"Unable to parse - please enter a scoring set of comma-separated dice values\")\n",
    "            try:\n",
    "                for die in scoring_set:\n",
    "                    self.dice.remove(die)\n",
    "                    self.saved_dice.append(die)\n",
    "                self.turn_score += score_dice(self.saved_dice)\n",
    "                if saved_dice:\n",
    "                    raise\n",
    "            except:\n",
    "                print(\"Your input was not in dice or non-scoring dice were present\")\n",
    "                \n",
    "    def end_turn(self):\n",
    "        if self.saved_dice == []:\n",
    "            print(\"You can't end your turn until you've chosen some valid scoring dice to save\")\n",
    "        else:\n",
    "            self.score += self.turn_score\n",
    "            \n",
    "    # Method to quit the game\n",
    "    def quit_game(self):\n",
    "        #if input(\"Are you sure you want to quit? (y/n)\").lower().strip() == \"y\":\n",
    "        sys.exit(\"Thank you for playing!\")"
   ]
  },
  {
   "cell_type": "code",
   "execution_count": 4,
   "id": "1aff2e40-8d67-42a1-93f2-eec2824163bf",
   "metadata": {},
   "outputs": [],
   "source": [
    "# Deck class to store cards\n",
    "class Deck:\n",
    "    def __init__(self):\n",
    "        self.draw_pile = cards.copy()\n",
    "        np.random.shuffle(self.draw_pile)\n",
    "    \n",
    "    def draw(self):\n",
    "        if len(self.draw_pile) < 1:\n",
    "            print(\"New Deck!\")\n",
    "            self.draw_pile = cards.copy()\n",
    "            np.random.shuffle(self.draw_pile)\n",
    "        else:\n",
    "            print(f\"Remaining cards: {len(self.draw_pile)}\")\n",
    "        return self.draw_pile.pop()"
   ]
  },
  {
   "cell_type": "code",
   "execution_count": 5,
   "id": "9441fb5f-0b4f-45d8-936e-77bc7f4bbd68",
   "metadata": {},
   "outputs": [],
   "source": [
    "# Defining class to contain game state\n",
    "class Game_State:\n",
    "    # Instantiating base state\n",
    "    def __init__(self, players):\n",
    "        self.win_score = 10_000\n",
    "        self.players_list = []\n",
    "        for i in range(players):\n",
    "            self.players_list.append(Player(f\"Player {i+1}\"))\n",
    "        self.deck = Deck()\n",
    "                                     \n",
    "    # Method to quit the game\n",
    "    def quit_game(self):\n",
    "        #if input(\"Are you sure you want to quit? (y/n)\").lower().strip() == \"y\":\n",
    "        sys.exit(\"Thank you for playing!\")"
   ]
  },
  {
   "cell_type": "code",
   "execution_count": 6,
   "id": "5d147775-b492-46d8-9af5-74e91fa2916f",
   "metadata": {},
   "outputs": [],
   "source": [
    "# Defining general function to get player input\n",
    "def get_input(player, options={\"0\": \"quit\"}):\n",
    "    options_guide = {\"quit\": player.quit_game, \"draw\": player.new_card, \"roll dice\": player.roll_dice, \"save dice\": player.save_dice, \"end turn\": player.end_turn}\n",
    "    print(\"What would you like to do?\")\n",
    "    time.sleep(2)\n",
    "    while True:\n",
    "        action = input(f\"Choose one of the following options: {options}\").lower().strip()\n",
    "        if (action in options.values()) or (action in options.keys()):\n",
    "            for option in options.items():\n",
    "                if action in option:\n",
    "                    return options_guide[option[1]]()\n",
    "            break\n",
    "        else:\n",
    "            print(\"Not a valid option - try entering the number or string for one of the options provided\")"
   ]
  },
  {
   "cell_type": "code",
   "execution_count": 7,
   "id": "b2d40bdc-1084-4552-b059-885932e9f01a",
   "metadata": {},
   "outputs": [],
   "source": [
    "# Options guide is the index for the functions\n",
    "#options_guide = {\"quit\": quit_game, \"draw\": new_card, \"roll dice\": roll_dice, \"save dice\": save_dice, \"end turn\": end_turn}\n"
   ]
  },
  {
   "cell_type": "code",
   "execution_count": 8,
   "id": "575b0b5f-10ae-4eb1-b53c-b41ba14d5ef9",
   "metadata": {},
   "outputs": [
    {
     "name": "stdin",
     "output_type": "stream",
     "text": [
      "How many players? Enter a number:  2\n"
     ]
    }
   ],
   "source": [
    "# Collecting the number of players from the user\n",
    "while True:\n",
    "    try:\n",
    "        players = int(input(\"How many players? Enter a number: \"))\n",
    "    except:\n",
    "        print(\"Not a valid number of players - please enter an integer\")\n",
    "        continue\n",
    "    if (players > 1):\n",
    "        break\n",
    "    else:\n",
    "        print(\"You can't play with fewer than two people!\")\n",
    "        continue"
   ]
  },
  {
   "cell_type": "code",
   "execution_count": 9,
   "id": "7ec6df4b-e10c-4cf1-9436-8003c0db832d",
   "metadata": {},
   "outputs": [
    {
     "name": "stdout",
     "output_type": "stream",
     "text": [
      "Player 1's turn\n",
      "Remaining cards: 54\n",
      "What would you like to do?\n"
     ]
    },
    {
     "name": "stdin",
     "output_type": "stream",
     "text": [
      "Choose one of the following options: {'1': 'roll dice', '0': 'quit'} 1\n"
     ]
    },
    {
     "name": "stdout",
     "output_type": "stream",
     "text": [
      "[4, 2, 4, 2, 2, 5]\n",
      "What would you like to do?\n"
     ]
    },
    {
     "name": "stdin",
     "output_type": "stream",
     "text": [
      "Choose one of the following options: {'1': 'save dice', '0': 'quit'} 4\n"
     ]
    },
    {
     "name": "stdout",
     "output_type": "stream",
     "text": [
      "Not a valid option - try entering the number or string for one of the options provided\n"
     ]
    },
    {
     "name": "stdin",
     "output_type": "stream",
     "text": [
      "Choose one of the following options: {'1': 'save dice', '0': 'quit'} 1\n",
      "Which dice would you like to save? \n"
     ]
    },
    {
     "name": "stdout",
     "output_type": "stream",
     "text": [
      "Unable to parse - please enter a scoring set of comma-separated dice values\n",
      "Your input was not in dice or non-scoring dice were present\n"
     ]
    },
    {
     "name": "stdin",
     "output_type": "stream",
     "text": [
      "Which dice would you like to save? 1, 1, 1\n"
     ]
    },
    {
     "name": "stdout",
     "output_type": "stream",
     "text": [
      "Player 2's turn\n",
      "Remaining cards: 53\n",
      "What would you like to do?\n"
     ]
    },
    {
     "name": "stdin",
     "output_type": "stream",
     "text": [
      "Choose one of the following options: {'1': 'roll dice', '0': 'quit'} 0\n"
     ]
    },
    {
     "ename": "SystemExit",
     "evalue": "Thank you for playing!",
     "output_type": "error",
     "traceback": [
      "An exception has occurred, use %tb to see the full traceback.\n",
      "\u001b[0;31mSystemExit\u001b[0m\u001b[0;31m:\u001b[0m Thank you for playing!\n"
     ]
    },
    {
     "name": "stderr",
     "output_type": "stream",
     "text": [
      "/opt/anaconda3/lib/python3.8/site-packages/IPython/core/interactiveshell.py:3449: UserWarning: To exit: use 'exit', 'quit', or Ctrl-D.\n",
      "  warn(\"To exit: use 'exit', 'quit', or Ctrl-D.\", stacklevel=1)\n"
     ]
    }
   ],
   "source": [
    "# Turn loop - this contains the actual gameplay\n",
    "#game = Game_State(players=players)\n",
    "deck = Deck()\n",
    "players_list = []\n",
    "for i in range(players):\n",
    "            players_list.append(Player(f\"Player {i+1}\"))\n",
    "while True:\n",
    "    for player in players_list:\n",
    "        print(f\"{player.name}'s turn\")\n",
    "        player.turn_score = 0\n",
    "        player.new_card(deck)\n",
    "        if player.card == \"NO DICE\":\n",
    "            print(\"Sorry, no dice!\")\n",
    "            continue\n",
    "        #while set(player.dice) == {0}:\n",
    "        if not get_input(player, {\"1\": \"roll dice\", \"0\": \"quit\"}):\n",
    "            continue      \n",
    "        get_input(player, {\"1\": \"save dice\", \"0\": \"quit\"})\n",
    "    break #temporary one-turn limit until I figure out why quit isn't working"
   ]
  },
  {
   "cell_type": "code",
   "execution_count": null,
   "id": "78c230fc-3802-470f-968f-c9cc7b84c993",
   "metadata": {},
   "outputs": [],
   "source": []
  }
 ],
 "metadata": {
  "kernelspec": {
   "display_name": "Python 3",
   "language": "python",
   "name": "python3"
  },
  "language_info": {
   "codemirror_mode": {
    "name": "ipython",
    "version": 3
   },
   "file_extension": ".py",
   "mimetype": "text/x-python",
   "name": "python",
   "nbconvert_exporter": "python",
   "pygments_lexer": "ipython3",
   "version": "3.8.2"
  }
 },
 "nbformat": 4,
 "nbformat_minor": 5
}
