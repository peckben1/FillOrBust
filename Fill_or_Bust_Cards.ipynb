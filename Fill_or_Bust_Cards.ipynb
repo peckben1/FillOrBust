{
 "cells": [
  {
   "cell_type": "code",
   "execution_count": 1,
   "id": "3b4d0da3-e021-42fb-918f-2090ae22c392",
   "metadata": {},
   "outputs": [],
   "source": [
    "# Initial Imports\n",
    "import numpy as np\n",
    "import time\n",
    "import sys"
   ]
  },
  {
   "cell_type": "code",
   "execution_count": 2,
   "id": "29c5219e-0fc8-42fa-bb42-02a78d325e25",
   "metadata": {},
   "outputs": [],
   "source": [
    "# Creating card deck and scoring rules\n",
    "cards = [\"BONUS: 300\"]*12 + [\"BONUS: 400\"]*10 + [\"BONUS: 500\"]*8 + [\"NO DICE\"]*8 + [\"FILL 1000\"]*6 + [\"MUST BUST\"]*4 + [\"VENGEANCE 2500\"]*4 + [\"DOUBLE TROUBLE\"]*2\n",
    "scoring_dict = {(5,): 50, (1,): 100, (2,2,2): 200, (3,3,3): 300, (4,4,4): 400, (5,5,5): 500, (6,6,6): 600, (1,1,1): 1000, (1,2,3,4,5,6): 1500}"
   ]
  },
  {
   "cell_type": "code",
   "execution_count": 3,
   "id": "9441fb5f-0b4f-45d8-936e-77bc7f4bbd68",
   "metadata": {},
   "outputs": [],
   "source": [
    "# Defining class to contain game state as attributes, actions as methods\n",
    "class Game_State:\n",
    "    # Instantiating base state\n",
    "    def __init__(self, players):\n",
    "        self.dicenum = 6\n",
    "        self.draw_pile = np.random.shuffle(cards.copy())\n",
    "        self.dice = []\n",
    "        self.saved_dice = []\n",
    "        self.turn_score = 0\n",
    "        self.status = -1\n",
    "        self.players_dict = dict()\n",
    "        for i in range(players):\n",
    "            # Potential for input for player name here\n",
    "            self.players_dict[f\"Player {i+1}\"] = 0\n",
    "            \n",
    "    # Method to draw a card - also shuffles if needed and resets dice\n",
    "    def draw():\n",
    "        if len(self.draw_pile) < 1:\n",
    "            print(\"New Deck!\")\n",
    "            self.draw_pile = np.random.shuffle(cards.copy())\n",
    "        else:\n",
    "            print(f\"Remaining cards: {len(self.draw_pile)}\")\n",
    "        self.dicenum = 6\n",
    "        return self.draw_pile.pop()\n",
    "    \n",
    "    # Method to roll dice\n",
    "    def roll_dice():\n",
    "        if self.status == 0:\n",
    "            print(\"You must save some of your scoring dice before rolling again\")\n",
    "            print(self.dice)\n",
    "            return self.dice\n",
    "        self.dice = np.random.randint(low=1, high=7, size=dicenum).tolist()\n",
    "        print(self.dice)\n",
    "        return self.score_dice()\n",
    "        \n",
    "    # Method to identify possible scoring sets - called within roll_dice   \n",
    "    def score_dice():   \n",
    "        bust = True\n",
    "        dice_counts = dict()\n",
    "        for num in range(1,7):\n",
    "            dice_counts[num] = self.dice.count(num)\n",
    "        if set(dice_counts.values()) == {1}:\n",
    "            print(\"Straight! 1500 points\")\n",
    "            bust = False\n",
    "        for key in dice_counts.keys():\n",
    "            if dice_counts[key] == 6:\n",
    "                print(f\"Two sets of {key}: {2*scoring_dict[(key, key, key)]} points\")\n",
    "                bust = False\n",
    "            elif dice_counts[key] > 2:\n",
    "                print(f\"Set of {key}: {scoring_dict[(key, key, key)]} points\")\n",
    "                bust = False\n",
    "            if (key in [1, 5]) and (dice_counts[key] > 0):\n",
    "                print(f\"{dice_counts[key]} {key}s: {scoring_dict[(key,)]} points each (up to {dice_counts[key]*scoring_dict[(key,)]})\")\n",
    "                bust = False\n",
    "        if bust:\n",
    "            print(\"Bust!\")\n",
    "            self.status = 3\n",
    "        return self.dice\n",
    "    \n",
    "    # Method to save scoring dice\n",
    "    def save_dice():\n",
    "        if self.status == -1:\n",
    "            print(\"No dice to save!\")\n",
    "            return self.dice\n",
    "        while True:\n",
    "            scoring_set = input(\"Which dice would you like to save?\")\n",
    "            try:\n",
    "                if len(scoring_set) == 1:\n",
    "                    scoring_set = [int(scoring_set)]\n",
    "                else:\n",
    "                    scoring_set = scoring_set.split(\",\")\n",
    "                    scoring_set = [int(entry.strip()) for entry in scoring_set]\n",
    "                break\n",
    "            except:\n",
    "                print(\"Unable to parse - please enter single scoring set of comma-separated dice values\")\n",
    "                return self.dice\n",
    "        if tuple(scoring_set) not in scoring_dict.keys():\n",
    "            print(\"Not a valid scoring set\")\n",
    "            return self.dice\n",
    "        try:\n",
    "            temp_dice = list()\n",
    "            for die in scoring_set:\n",
    "                self.dice.remove(die)\n",
    "                temp_dice.append(die)\n",
    "                self.dicenum -= 1\n",
    "            self.saved_dice.append(temp_dice)\n",
    "            self.turn_score += scoring_dict[tuple(scoring_set)]\n",
    "            self.status = 1\n",
    "        except:\n",
    "            print(\"Scoring set not in dice\")\n",
    "        print(f\"Dice: {self.dice} \\nSaved Dice: {self.saved_dice} \\nTurn Score: {self.turn_score}\")\n",
    "        if self.dicenum == 0:\n",
    "            print(\"Fill!\")\n",
    "            self.status = 2\n",
    "        return self.dice\n",
    "    \n",
    "    # Method to end turn\n",
    "    def end_turn():\n",
    "        if self.status < 1:\n",
    "            print(\"You can't end your turn until you've chosen some valid scoring dice to save\")\n",
    "        else:\n",
    "            self.players_dict[player] += self.turn_score #Can I invoke player here?\n",
    "            self.status = 3\n",
    "        return self.dice\n",
    "    \n",
    "    # Method to quit the game\n",
    "    def quit_game():\n",
    "        if input(\"Are you sure you want to quit? (y/n)\").lower().strip() == \"y\":\n",
    "            sys.exit(\"Thank you for playing!\")\n",
    "        else:\n",
    "            return self.dice\n",
    "    \n",
    "    "
   ]
  },
  {
   "cell_type": "code",
   "execution_count": 4,
   "id": "618f93d1-d00c-4d9b-9f8f-1422bc55c2ba",
   "metadata": {},
   "outputs": [],
   "source": [
    "# Status codes are used for determining the state of a player's turn:\n",
    "# status -1 is not rolled yet\n",
    "# status 0 is normal with no dice saved this throw\n",
    "# status 1 normal with dice saved this throw\n",
    "# status 2 draw again without modifying turn score\n",
    "# status 3 turn is over"
   ]
  },
  {
   "cell_type": "code",
   "execution_count": 7,
   "id": "5d147775-b492-46d8-9af5-74e91fa2916f",
   "metadata": {},
   "outputs": [],
   "source": [
    "# Defining general function to get player input\n",
    "def get_input(options={\"0\": \"quit\"}):\n",
    "    print(\"What would you like to do?\")\n",
    "    time.sleep(2)\n",
    "    while True:\n",
    "        action = input(f\"Choose one of the following options: {options}\").lower().strip()\n",
    "        if (action in options.values()) or (action in options.keys()):\n",
    "            for option in options.items():\n",
    "                if action in option:\n",
    "                    return options_guide[option[1]]()\n",
    "            break\n",
    "        else:\n",
    "            print(\"Not a valid option - try entering the number or string for one of the options provided\")"
   ]
  },
  {
   "cell_type": "code",
   "execution_count": 9,
   "id": "b2d40bdc-1084-4552-b059-885932e9f01a",
   "metadata": {},
   "outputs": [],
   "source": [
    "# Options guide is the index for the functions\n",
    "options_guide = {\"quit\": Game_State.quit_game, \"draw\": Game_State.draw, \"roll dice\": Game_State.roll_dice, \"save dice\": Game_State.save_dice, \"end turn\": Game_State.end_turn}"
   ]
  },
  {
   "cell_type": "code",
   "execution_count": 7,
   "id": "575b0b5f-10ae-4eb1-b53c-b41ba14d5ef9",
   "metadata": {},
   "outputs": [
    {
     "name": "stdin",
     "output_type": "stream",
     "text": [
      "How many players? Enter a number:  3\n"
     ]
    }
   ],
   "source": [
    "# Collecting the number of players from the user\n",
    "while True:\n",
    "    try:\n",
    "        players = int(input(\"How many players? Enter a number: \"))\n",
    "    except:\n",
    "        print(\"Not a valid number of players - please enter an integer\")\n",
    "        continue\n",
    "    if (players > 1):\n",
    "        break\n",
    "    else:\n",
    "        print(\"You can't play with fewer than two people!\")\n",
    "        continue"
   ]
  },
  {
   "cell_type": "code",
   "execution_count": 8,
   "id": "b3cff7d1-83f7-4e95-b0f0-f7fef1ba1162",
   "metadata": {},
   "outputs": [],
   "source": [
    "game = Game_State(players=players)"
   ]
  },
  {
   "cell_type": "code",
   "execution_count": 9,
   "id": "b8dc1b7d-3110-439c-8042-a3a9708d760f",
   "metadata": {},
   "outputs": [
    {
     "data": {
      "text/plain": [
       "{'Player 1': 0, 'Player 2': 0, 'Player 3': 0}"
      ]
     },
     "execution_count": 9,
     "metadata": {},
     "output_type": "execute_result"
    }
   ],
   "source": [
    "game.players_dict"
   ]
  },
  {
   "cell_type": "code",
   "execution_count": 12,
   "id": "7ec6df4b-e10c-4cf1-9436-8003c0db832d",
   "metadata": {},
   "outputs": [
    {
     "name": "stdout",
     "output_type": "stream",
     "text": [
      "Current scores: {'Player 1': 0, 'Player 2': 0}\n",
      "Player 1's turn\n",
      "What would you like to do?\n"
     ]
    },
    {
     "name": "stdin",
     "output_type": "stream",
     "text": [
      "Choose one of the following options: {'1': 'draw', '2': 'end turn', '0': 'quit'} 1\n"
     ]
    },
    {
     "name": "stdout",
     "output_type": "stream",
     "text": [
      "Remaining cards: 54\n",
      "BONUS: 300\n",
      "What would you like to do?\n"
     ]
    },
    {
     "name": "stdin",
     "output_type": "stream",
     "text": [
      "Choose one of the following options: {'1': 'roll dice', '2': 'save dice', '3': 'end turn', '0': 'quit'} 1\n"
     ]
    },
    {
     "name": "stdout",
     "output_type": "stream",
     "text": [
      "[1, 3, 2, 5, 2, 4]\n",
      "1 1s: 100 points each (up to 100)\n",
      "1 5s: 50 points each (up to 50)\n",
      "What would you like to do?\n"
     ]
    },
    {
     "name": "stdin",
     "output_type": "stream",
     "text": [
      "Choose one of the following options: {'1': 'roll dice', '2': 'save dice', '3': 'end turn', '0': 'quit'} 1\n"
     ]
    },
    {
     "name": "stdout",
     "output_type": "stream",
     "text": [
      "You must save some of your scoring dice before rolling again\n",
      "[1, 3, 2, 5, 2, 4]\n",
      "What would you like to do?\n"
     ]
    },
    {
     "name": "stdin",
     "output_type": "stream",
     "text": [
      "Choose one of the following options: {'1': 'roll dice', '2': 'save dice', '3': 'end turn', '0': 'quit'} 2\n",
      "Which dice would you like to save? 1\n"
     ]
    },
    {
     "name": "stdout",
     "output_type": "stream",
     "text": [
      "Dice: [3, 2, 5, 2, 4] \n",
      "Saved Dice: [[1]] \n",
      "Turn Score: 100\n",
      "What would you like to do?\n"
     ]
    },
    {
     "name": "stdin",
     "output_type": "stream",
     "text": [
      "Choose one of the following options: {'1': 'roll dice', '2': 'save dice', '3': 'end turn', '0': 'quit'} 1\n"
     ]
    },
    {
     "name": "stdout",
     "output_type": "stream",
     "text": [
      "[2, 1, 6, 5, 3]\n",
      "1 1s: 100 points each (up to 100)\n",
      "1 5s: 50 points each (up to 50)\n",
      "What would you like to do?\n"
     ]
    },
    {
     "name": "stdin",
     "output_type": "stream",
     "text": [
      "Choose one of the following options: {'1': 'roll dice', '2': 'save dice', '3': 'end turn', '0': 'quit'} 0\n"
     ]
    },
    {
     "ename": "SystemExit",
     "evalue": "",
     "output_type": "error",
     "traceback": [
      "An exception has occurred, use %tb to see the full traceback.\n",
      "\u001b[0;31mSystemExit\u001b[0m\n"
     ]
    },
    {
     "name": "stderr",
     "output_type": "stream",
     "text": [
      "/opt/anaconda3/lib/python3.8/site-packages/IPython/core/interactiveshell.py:3449: UserWarning: To exit: use 'exit', 'quit', or Ctrl-D.\n",
      "  warn(\"To exit: use 'exit', 'quit', or Ctrl-D.\", stacklevel=1)\n"
     ]
    }
   ],
   "source": [
    "# Turn loop - this contains the actual gameplay\n",
    "game = Game_State(players=players)\n",
    "while True:\n",
    "    for player in Game_State.players_dict.keys():\n",
    "        Game_State.status = -1\n",
    "        Game_State.turn_score = 0\n",
    "        Game_State.saved_dice.clear()\n",
    "        dice.clear()\n",
    "        print(f\"Current scores: {players_dict}\")\n",
    "        print(f\"{player}'s turn\")\n",
    "        # Draw loop\n",
    "        while True:\n",
    "            card = get_input({\"1\": \"draw\", \"2\": \"end turn\", \"0\": \"quit\"})\n",
    "            if status == 3:\n",
    "                break\n",
    "            else:\n",
    "                print(card)\n",
    "                if card == \"NO DICE\":\n",
    "                    print(\"Sorry, no dice!\")\n",
    "                    status = 3\n",
    "                    break\n",
    "                status = -1\n",
    "                # Roll Dice loop\n",
    "                while status < 2:\n",
    "                    dice = get_input({\"1\": \"roll dice\", \"2\": \"save dice\", \"3\": \"end turn\", \"0\": \"quit\"})\n",
    "                    if status > 1:\n",
    "                        break\n",
    "                    elif (dice == []) or (status == 1):\n",
    "                        continue\n",
    "                    else:\n",
    "                        status = 0\n",
    "            if status == 3:\n",
    "                break\n",
    "            status = 0\n",
    "    break #temporary one-turn limit until I figure out why quit isn't working"
   ]
  },
  {
   "cell_type": "code",
   "execution_count": null,
   "id": "d6ccec84-b191-4037-84c1-fb96949147a1",
   "metadata": {},
   "outputs": [],
   "source": []
  }
 ],
 "metadata": {
  "kernelspec": {
   "display_name": "Python 3",
   "language": "python",
   "name": "python3"
  },
  "language_info": {
   "codemirror_mode": {
    "name": "ipython",
    "version": 3
   },
   "file_extension": ".py",
   "mimetype": "text/x-python",
   "name": "python",
   "nbconvert_exporter": "python",
   "pygments_lexer": "ipython3",
   "version": "3.8.2"
  }
 },
 "nbformat": 4,
 "nbformat_minor": 5
}
