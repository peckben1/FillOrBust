{
 "cells": [
  {
   "cell_type": "code",
   "execution_count": 2,
   "id": "3b4d0da3-e021-42fb-918f-2090ae22c392",
   "metadata": {},
   "outputs": [],
   "source": [
    "# Initial Imports - so far, just numpy\n",
    "import numpy as np"
   ]
  },
  {
   "cell_type": "code",
   "execution_count": 3,
   "id": "29c5219e-0fc8-42fa-bb42-02a78d325e25",
   "metadata": {},
   "outputs": [],
   "source": [
    "# Instantiating base state\n",
    "dicenum = 6\n",
    "cards = [\"BONUS: 300\"]*12 + [\"BONUS: 400\"]*10 + [\"BONUS: 500\"]*8 + [\"NO DICE\"]*8 + [\"FILL 1000\"]*6 + [\"MUST BUST\"]*4 + [\"VENGEANCE 2500\"]*4 + [\"DOUBLE TROUBLE\"]*2\n",
    "scoring_dict = {(5,): 50, (1,): 100, (2,2,2): 200, (3,3,3): 300, (4,4,4): 400, (5,5,5): 500, (6,6,6): 600, (1,1,1): 1000, (1,2,3,4,5,6): 1500}\n",
    "draw_pile = []\n",
    "dice = []\n",
    "saved_dice = []\n",
    "turn_score = 0"
   ]
  },
  {
   "cell_type": "code",
   "execution_count": 4,
   "id": "a60cfedc-8d2e-416d-ad18-70eaf77dc6dc",
   "metadata": {},
   "outputs": [],
   "source": [
    "# Defining function to draw a card - also shuffles if needed and resets dice\n",
    "def draw():\n",
    "    global dicenum\n",
    "    global draw_pile\n",
    "    if len(draw_pile) < 1:\n",
    "        print(\"New Deck!\")\n",
    "        draw_pile = cards.copy()\n",
    "        np.random.shuffle(draw_pile)\n",
    "    else:\n",
    "        print(f\"Remaining cards: {len(draw_pile)}\")\n",
    "    dicenum = 6\n",
    "    return draw_pile.pop()"
   ]
  },
  {
   "cell_type": "code",
   "execution_count": 5,
   "id": "04426671-8995-4a1b-8e44-72e73d85dac4",
   "metadata": {},
   "outputs": [],
   "source": [
    "# Alternative option to shuffle function - random choice followed by pop?\n",
    "#np.random.choice(cards)"
   ]
  },
  {
   "cell_type": "code",
   "execution_count": 6,
   "id": "1031fda9-fe56-473e-8ff9-65a8a88e0d66",
   "metadata": {},
   "outputs": [],
   "source": [
    "# Defining function to roll dice\n",
    "def roll_dice():\n",
    "    global dice\n",
    "    roll = np.random.randint(low=1, high=7, size=dicenum)\n",
    "    dice = roll.tolist()\n",
    "    return dice"
   ]
  },
  {
   "cell_type": "code",
   "execution_count": 9,
   "id": "f0a66342-5637-402c-894f-d0f3e749ab2c",
   "metadata": {},
   "outputs": [],
   "source": [
    "# Defining function to identify possible scoring sets in rolled dice\n",
    "def score_dice(dice):\n",
    "    dice_counts = dict()\n",
    "    for num in range(1,7):\n",
    "        dice_counts[num] = dice.count(num)\n",
    "    if set(dice_counts.values()) == {1}:\n",
    "        print(\"Straight!\")\n",
    "    else:\n",
    "        for key in dice_counts.keys():\n",
    "            if dice_counts[key] == 6:\n",
    "                print(f\"Two sets of {key}\")\n",
    "            elif dice_counts[key] > 2:\n",
    "                print(f\"Set of {key}\")\n",
    "            if (key in [1, 5]) and (dice_counts[key] > 0):\n",
    "                print(f\"{dice_counts[key]} {key}s\")"
   ]
  },
  {
   "cell_type": "code",
   "execution_count": 8,
   "id": "b82b274f-92ee-4564-a3c0-422c6a293396",
   "metadata": {},
   "outputs": [],
   "source": [
    "# Defining function to save scoring dice\n",
    "def save_dice(scoring_set):\n",
    "    if type(scoring_set) != list:\n",
    "        try:\n",
    "            if type(scoring_set) == int:\n",
    "                scoring_set = [scoring_set]\n",
    "            else:\n",
    "                scoring_set = list(scoring_set)\n",
    "        except:\n",
    "            print(\"Unable to parse - please enter a list of dice values\")\n",
    "            return\n",
    "    global dice\n",
    "    global dicenum\n",
    "    global saved_dice\n",
    "    global turn_score\n",
    "    if tuple(scoring_set) not in scoring_dict.keys():\n",
    "        print(\"Not a valid scoring set\")\n",
    "        return\n",
    "    try:\n",
    "        temp_dice = list()\n",
    "        for die in scoring_set:\n",
    "            dice.remove(die)\n",
    "            temp_dice.append(die)\n",
    "            dicenum -= 1\n",
    "        saved_dice.append(temp_dice)\n",
    "        turn_score += scoring_dict[tuple(scoring_set)]\n",
    "    except:\n",
    "        print(\"Scoring set not in dice\")"
   ]
  },
  {
   "cell_type": "code",
   "execution_count": 1,
   "id": "47b9c346-494c-4fde-ab76-39a1f3dcfa81",
   "metadata": {},
   "outputs": [],
   "source": [
    "# earlier attempt at scoring dice which didn't account for the option to only save one of a set of three 1s or 5s\n",
    "#def score(dice):\n",
    "#    if set(dice) == {1, 2, 3, 4, 5, 6}:\n",
    "#        print(\"Straight\")\n",
    "#    elif len(set(dice)) == 1:\n",
    "#            print(f\"Two sets of {dice[0]}\")\n",
    "#    else:\n",
    "#        for num in set(dice):\n",
    "#                if dice.count(num) > 2:\n",
    "#                    print(f\"Set of {num}\")\n",
    "#                if (num == 1) or (num == 5):\n",
    "#                    print(f\"{dice.count(num)} {num}s\")"
   ]
  },
  {
   "cell_type": "code",
   "execution_count": null,
   "id": "8c5b6f9c-5fa9-4b78-b3fc-0f30ab3c8302",
   "metadata": {},
   "outputs": [],
   "source": []
  }
 ],
 "metadata": {
  "kernelspec": {
   "display_name": "Python 3",
   "language": "python",
   "name": "python3"
  },
  "language_info": {
   "codemirror_mode": {
    "name": "ipython",
    "version": 3
   },
   "file_extension": ".py",
   "mimetype": "text/x-python",
   "name": "python",
   "nbconvert_exporter": "python",
   "pygments_lexer": "ipython3",
   "version": "3.8.2"
  }
 },
 "nbformat": 4,
 "nbformat_minor": 5
}
